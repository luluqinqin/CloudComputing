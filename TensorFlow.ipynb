{
  "nbformat": 4,
  "nbformat_minor": 0,
  "metadata": {
    "colab": {
      "name": "TensorFlow.ipynb",
      "provenance": [],
      "collapsed_sections": [],
      "mount_file_id": "1MK3SBcT5997sBpQ_V0HyJ0IFAcBvY2NO",
      "authorship_tag": "ABX9TyPtAC/h1b3S6C15qmc8+Wes",
      "include_colab_link": true
    },
    "kernelspec": {
      "name": "python3",
      "display_name": "Python 3"
    },
    "language_info": {
      "name": "python"
    }
  },
  "cells": [
    {
      "cell_type": "markdown",
      "metadata": {
        "id": "view-in-github",
        "colab_type": "text"
      },
      "source": [
        "<a href=\"https://colab.research.google.com/github/luluqinqin/CloudComputing/blob/main/TensorFlow.ipynb\" target=\"_parent\"><img src=\"https://colab.research.google.com/assets/colab-badge.svg\" alt=\"Open In Colab\"/></a>"
      ]
    },
    {
      "cell_type": "markdown",
      "source": [
        "### TensorFlow\n"
      ],
      "metadata": {
        "id": "kVxuVJhFw9M1"
      }
    },
    {
      "cell_type": "code",
      "source": [
        "%tensorflow_version 2.x"
      ],
      "metadata": {
        "id": "Xvz7RncQ0os6"
      },
      "execution_count": null,
      "outputs": []
    },
    {
      "cell_type": "code",
      "source": [
        "import pandas as pd\n",
        "import numpy as np\n",
        "import tensorflow as tf\n",
        "print(tf.version)"
      ],
      "metadata": {
        "colab": {
          "base_uri": "https://localhost:8080/"
        },
        "id": "RYSwFGCKwouF",
        "outputId": "008a6019-379b-4b95-820e-4f669d15b698"
      },
      "execution_count": null,
      "outputs": [
        {
          "output_type": "stream",
          "name": "stdout",
          "text": [
            "<module 'tensorflow._api.v2.version' from '/usr/local/lib/python3.7/dist-packages/tensorflow/_api/v2/version/__init__.py'>\n"
          ]
        }
      ]
    },
    {
      "cell_type": "markdown",
      "source": [
        "### Tensor Shape"
      ],
      "metadata": {
        "id": "NjI8UN9s7SAK"
      }
    },
    {
      "cell_type": "code",
      "source": [
        "# RANK - the number of dimesions\n",
        "rank1_tensor = tf.Variable(['1','2','3'],tf.string)  # rank 1 tensor, 1 dimension\n",
        "rank2_tensor = tf.Variable([['1','2','3'],['3','4','5']],tf.string)  # rank 2 tensor, 2 dimensions \n",
        "rank2_tensor"
      ],
      "metadata": {
        "colab": {
          "base_uri": "https://localhost:8080/"
        },
        "id": "PxmCQfzzwpWQ",
        "outputId": "55bbed9e-45b4-4222-9f6d-1267935df3d1"
      },
      "execution_count": null,
      "outputs": [
        {
          "output_type": "execute_result",
          "data": {
            "text/plain": [
              "<tf.Variable 'Variable:0' shape=(2, 3) dtype=string, numpy=\n",
              "array([[b'1', b'2', b'3'],\n",
              "       [b'3', b'4', b'5']], dtype=object)>"
            ]
          },
          "metadata": {},
          "execution_count": 3
        }
      ]
    },
    {
      "cell_type": "code",
      "source": [
        "rank2_tensor.shape"
      ],
      "metadata": {
        "colab": {
          "base_uri": "https://localhost:8080/"
        },
        "id": "881H6L8LwphX",
        "outputId": "5a22e4fe-add0-4dab-96ef-85170880769a"
      },
      "execution_count": null,
      "outputs": [
        {
          "output_type": "execute_result",
          "data": {
            "text/plain": [
              "TensorShape([2, 3])"
            ]
          },
          "metadata": {},
          "execution_count": 4
        }
      ]
    },
    {
      "cell_type": "code",
      "source": [
        "tensor1 = tf.ones([1,2,3])  #crate a shape of [1,2,3] tensor full of ones, 1 interior list, 2 lists inside the bigger list, and each list has 3 elements\n",
        "print(tensor1)"
      ],
      "metadata": {
        "colab": {
          "base_uri": "https://localhost:8080/"
        },
        "id": "V8cB_Pz1wpov",
        "outputId": "a5a78bcb-91fa-4670-f774-c2c9f74ec0ac"
      },
      "execution_count": null,
      "outputs": [
        {
          "output_type": "stream",
          "name": "stdout",
          "text": [
            "tf.Tensor(\n",
            "[[[1. 1. 1.]\n",
            "  [1. 1. 1.]]], shape=(1, 2, 3), dtype=float32)\n"
          ]
        }
      ]
    },
    {
      "cell_type": "code",
      "source": [
        "tensor2 = tf.reshape(tensor1, [2,3,1]) #2 list, 3 smaller list inside of each 2 lists, and 1 element in each \n",
        "print(tensor2)"
      ],
      "metadata": {
        "colab": {
          "base_uri": "https://localhost:8080/"
        },
        "id": "N5OU3HtB5ELb",
        "outputId": "9e5ad602-c5fe-4eeb-9984-0cc7c228f5eb"
      },
      "execution_count": null,
      "outputs": [
        {
          "output_type": "stream",
          "name": "stdout",
          "text": [
            "tf.Tensor(\n",
            "[[[1.]\n",
            "  [1.]\n",
            "  [1.]]\n",
            "\n",
            " [[1.]\n",
            "  [1.]\n",
            "  [1.]]], shape=(2, 3, 1), dtype=float32)\n"
          ]
        }
      ]
    },
    {
      "cell_type": "code",
      "source": [
        "tensor3 = tf.reshape(tensor2,[3, -1])  # -1 is to tell tensor to calculate the size of dimensions (num of elements) within 3 lists\n",
        "print(tensor3)"
      ],
      "metadata": {
        "colab": {
          "base_uri": "https://localhost:8080/"
        },
        "id": "j8wIt-xj5EO9",
        "outputId": "d27d03f4-e154-4bcc-883d-ab2de4a8043e"
      },
      "execution_count": null,
      "outputs": [
        {
          "output_type": "stream",
          "name": "stdout",
          "text": [
            "tf.Tensor(\n",
            "[[1. 1.]\n",
            " [1. 1.]\n",
            " [1. 1.]], shape=(3, 2), dtype=float32)\n"
          ]
        }
      ]
    },
    {
      "cell_type": "markdown",
      "source": [
        "### Tensor Type"
      ],
      "metadata": {
        "id": "C8-vB9vg5ERs"
      }
    },
    {
      "cell_type": "code",
      "source": [
        "# Variable - Muttable (changable)\n",
        "# Constant  - immutable\n",
        "# Placeholder - immutable\n",
        "# SparseTensor - immutable "
      ],
      "metadata": {
        "id": "JCVfR7nj5EUM"
      },
      "execution_count": null,
      "outputs": []
    },
    {
      "cell_type": "markdown",
      "source": [
        "### Evaluate Tensor"
      ],
      "metadata": {
        "id": "T8p42Q4Q5EXM"
      }
    },
    {
      "cell_type": "code",
      "source": [
        "# with tf.Session() as sess:\n",
        "#   (whatever tensor name).eval()"
      ],
      "metadata": {
        "colab": {
          "base_uri": "https://localhost:8080/",
          "height": 134
        },
        "id": "eKTQ7Fv45EZ8",
        "outputId": "0f560625-e1e2-4e50-8626-b17415ab6394"
      },
      "execution_count": null,
      "outputs": [
        {
          "output_type": "error",
          "ename": "SyntaxError",
          "evalue": "ignored",
          "traceback": [
            "\u001b[0;36m  File \u001b[0;32m\"<ipython-input-9-84d14ad8ae27>\"\u001b[0;36m, line \u001b[0;32m2\u001b[0m\n\u001b[0;31m    (whatever tensor name).eval()\u001b[0m\n\u001b[0m                   ^\u001b[0m\n\u001b[0;31mSyntaxError\u001b[0m\u001b[0;31m:\u001b[0m invalid syntax\n"
          ]
        }
      ]
    },
    {
      "cell_type": "markdown",
      "source": [
        "### PRACTICE"
      ],
      "metadata": {
        "id": "jHqhFTji5Ec7"
      }
    },
    {
      "cell_type": "code",
      "source": [
        "t = tf.zeros([5,2,2])\n",
        "t2 = tf.reshape(t, [5,-1])\n",
        "t2"
      ],
      "metadata": {
        "id": "3Cq_VxIz5Ef-"
      },
      "execution_count": null,
      "outputs": []
    },
    {
      "cell_type": "markdown",
      "source": [
        "# **TensorFlow CORE Algorithm**"
      ],
      "metadata": {
        "id": "a8HHPVqF5Ei7"
      }
    },
    {
      "cell_type": "markdown",
      "source": [
        "# Linar Regression"
      ],
      "metadata": {
        "id": "EnoN1ypaAzQG"
      }
    },
    {
      "cell_type": "code",
      "source": [
        "import matplotlib.pyplot as plt\n",
        "import numpy as np"
      ],
      "metadata": {
        "id": "eGfiGaRSAzZm"
      },
      "execution_count": null,
      "outputs": []
    },
    {
      "cell_type": "code",
      "source": [
        "x = [1,2,3,4,5]\n",
        "y = [3,4,8,15,20]\n",
        "plt.plot(x,y,'ro')\n",
        "plt.axis([0,6,0,26])"
      ],
      "metadata": {
        "id": "jt5_8f_NAzcu"
      },
      "execution_count": null,
      "outputs": []
    },
    {
      "cell_type": "code",
      "source": [
        "!pip install -q sklearn"
      ],
      "metadata": {
        "id": "ne3AQEXbAzff"
      },
      "execution_count": null,
      "outputs": []
    },
    {
      "cell_type": "code",
      "source": [
        "from __future__ import absolute_import, division, print_function, unicode_literals\n",
        "import numpy as np\n",
        "import pandas as pd\n",
        "import matplotlib.pyplot as plt\n",
        "from IPython.display import clear_output\n",
        "from six.moves import urllib\n",
        "import tensorflow.compat.v2.feature_column as fc\n",
        "import tensorflow as tf"
      ],
      "metadata": {
        "id": "Bwqu1S7xAziI"
      },
      "execution_count": null,
      "outputs": []
    },
    {
      "cell_type": "code",
      "source": [
        "dftrain = pd.read_csv('http://storage.googleapis.com/tf-datasets/titanic/train.csv')\n",
        "dftest = pd.read_csv('http://storage.googleapis.com/tf-datasets/titanic/eval.csv')"
      ],
      "metadata": {
        "id": "UF7b632WAzk2"
      },
      "execution_count": null,
      "outputs": []
    },
    {
      "cell_type": "code",
      "source": [
        "dftrain.head()\n",
        "dftrain.columns\n",
        "dftest.shape"
      ],
      "metadata": {
        "id": "0ztqPh7CAznZ"
      },
      "execution_count": null,
      "outputs": []
    },
    {
      "cell_type": "code",
      "source": [
        "y_train = dftrain.pop('survived')\n",
        "print(y_train)"
      ],
      "metadata": {
        "id": "Oe_HIvXlAzqA"
      },
      "execution_count": null,
      "outputs": []
    },
    {
      "cell_type": "code",
      "source": [
        "y_test = dftest.pop('survived')\n",
        "print(y_test)"
      ],
      "metadata": {
        "id": "DGru8XPSAzs2"
      },
      "execution_count": null,
      "outputs": []
    },
    {
      "cell_type": "code",
      "source": [
        "dftrain.describe()"
      ],
      "metadata": {
        "id": "8XElksIRLXZr"
      },
      "execution_count": null,
      "outputs": []
    },
    {
      "cell_type": "code",
      "source": [
        "dftrain.shape"
      ],
      "metadata": {
        "id": "CtxrKYc3LXdK"
      },
      "execution_count": null,
      "outputs": []
    },
    {
      "cell_type": "code",
      "source": [
        "dftrain.age.hist(bins=20)"
      ],
      "metadata": {
        "id": "C_oFsVi0LXgL"
      },
      "execution_count": null,
      "outputs": []
    },
    {
      "cell_type": "code",
      "source": [
        "dftrain.sex.value_counts().plot(kind='barh')"
      ],
      "metadata": {
        "id": "V7UNBGBALXjK"
      },
      "execution_count": null,
      "outputs": []
    },
    {
      "cell_type": "code",
      "source": [
        "dftrain['class'].value_counts().plot(kind = 'barh')"
      ],
      "metadata": {
        "id": "ANHnoFmVLXmD"
      },
      "execution_count": null,
      "outputs": []
    },
    {
      "cell_type": "code",
      "source": [
        "dftrain.groupby('sex').survived.mean().plot(kind='barh').set_xlabel('% survive')"
      ],
      "metadata": {
        "id": "rW4M8WQHLXo0"
      },
      "execution_count": null,
      "outputs": []
    },
    {
      "cell_type": "markdown",
      "source": [
        "### Seperate Numerical & Categorical Data"
      ],
      "metadata": {
        "id": "5eV0FDunNQpU"
      }
    },
    {
      "cell_type": "code",
      "source": [
        "CAT_COL = ['sex','n_siblings_spouses','parch','class','deck','embark_town','alone']\n",
        "NUM_COL = ['age','fare']"
      ],
      "metadata": {
        "id": "nHduEquQNQsE"
      },
      "execution_count": null,
      "outputs": []
    },
    {
      "cell_type": "code",
      "source": [
        "feature_columns = []\n",
        "for i in CAT_COL:\n",
        "  level = dftrain[i].unique()  # get the unique value (e.g., female, male) from the categorical column\n",
        "  feature_columns.append(tf.feature_column.categorical_column_with_vocabulary_list(i, level))  "
      ],
      "metadata": {
        "id": "8Ghn_Vh_NQuy"
      },
      "execution_count": null,
      "outputs": []
    },
    {
      "cell_type": "code",
      "source": [
        "for i in NUM_COL:\n",
        "  feature_columns.append(tf.feature_column.numeric_column(i,dtype = tf.float32))"
      ],
      "metadata": {
        "id": "NLz1jDYCNQxM"
      },
      "execution_count": null,
      "outputs": []
    },
    {
      "cell_type": "code",
      "source": [
        "print(feature_columns)"
      ],
      "metadata": {
        "id": "dQZByDRsNQz0"
      },
      "execution_count": null,
      "outputs": []
    },
    {
      "cell_type": "markdown",
      "source": [
        "### MODEL"
      ],
      "metadata": {
        "id": "ZeRPqgAHNQ2c"
      }
    },
    {
      "cell_type": "code",
      "source": [
        "# LOAD DATA IN BATCHES (small batches 32)\n",
        "# EPOCHS - a stream of our entire dataset; num of epochs is the amount of times our model will see the entire datatset;\n",
        "# we use multiple epochs in hope that after seeeing the same data multiple times the model will better determine how to estimate it\n",
        "# e.g, if we have 10 epochs, model will see the same data for 10 times\n",
        "# since we need to feed our data in batches and multiple times we need to create INPUT FUNCTION. the input function will covert dataset into batches at each epochs\n"
      ],
      "metadata": {
        "id": "2zhqjft0NQ5N"
      },
      "execution_count": null,
      "outputs": []
    },
    {
      "cell_type": "markdown",
      "source": [
        "##### INPUT FUNCTION"
      ],
      "metadata": {
        "id": "yAJ5T1ntNQ7k"
      }
    },
    {
      "cell_type": "code",
      "source": [
        "# TensorFlow model requires the data we process come in as a tf.data.Dataset object\\\\\n",
        "# tf.data.Dataset DEFINE AN INPUT FUNCTION how to break data into epochs and batches to fit the model\n",
        "# It's the code can be adapted to any kind of data"
      ],
      "metadata": {
        "id": "qDZlWpixLXuq"
      },
      "execution_count": null,
      "outputs": []
    },
    {
      "cell_type": "code",
      "source": [
        "def make_input_fn(data_df, label_df, num_epochs=10, shuffle=True, batch_size=32):  # shuffle is to shuffle the data and mix it up\n",
        "  def input_function():  #inner function will be returned\n",
        "    ds = tf.data.Dataset.from_tensor_slices((dict(data_df), label_df))    #create tf.data.Dataset object with data and its lable\n",
        "    if shuffle:\n",
        "      ds = ds.shuffle(1000)  # randomize order of data\n",
        "    ds = ds.batch(batch_size).repeat(num_epochs)   # take data and break into num_batch (num of blocks) to pass to modle and repeat num_epochs\n",
        "    return ds\n",
        "  return input_function\n",
        "\n",
        "train_input_fn = make_input_fn(dftrain, y_train)\n",
        "test_input_fn = make_input_fn(dftest, y_test, num_epochs=1, shuffle=False)   # TEST data NO need to shuffle cuz we don't need to train it\n",
        "\n"
      ],
      "metadata": {
        "id": "o9CH0OG2LXxz"
      },
      "execution_count": null,
      "outputs": []
    },
    {
      "cell_type": "markdown",
      "source": [
        "##### CREATING MODELS"
      ],
      "metadata": {
        "id": "m6tR0rzPSZ5G"
      }
    },
    {
      "cell_type": "code",
      "source": [
        "# Activate Linear ESTIMATOR\n",
        "linear_est = tf.estimator.LinearClassifier(feature_columns=feature_columns)"
      ],
      "metadata": {
        "id": "MvhbCGtHSZ8G"
      },
      "execution_count": null,
      "outputs": []
    },
    {
      "cell_type": "code",
      "source": [
        "# TRAIN MODEL\n",
        "linear_est.train(train_input_fn)\n",
        "result = linear_est.evaluate(test_input_fn)\n",
        "clear_output()\n",
        "print(result['accuracy'])\n",
        "print(result)"
      ],
      "metadata": {
        "id": "-uDqHLozSZ_e"
      },
      "execution_count": null,
      "outputs": []
    },
    {
      "cell_type": "code",
      "source": [
        "y_pred = list(linear_est.predict(test_input_fn))\n",
        "clear_output()\n",
        "print(y_pred)\n",
        "clear_output()"
      ],
      "metadata": {
        "id": "AVbH4PvmSaFe"
      },
      "execution_count": null,
      "outputs": []
    },
    {
      "cell_type": "code",
      "source": [
        "print(y_pred[0])  # review the first prediction\n",
        "print(y_pred[0]['probabilities'][1]) # get probability of survived\n",
        "print(y_pred[0]['probabilities'][0]) # get probability of NOT survived"
      ],
      "metadata": {
        "id": "cUecLgHNSaIR"
      },
      "execution_count": null,
      "outputs": []
    },
    {
      "cell_type": "code",
      "source": [
        "# check back to individual data of the first person\n",
        "print(dftest.loc[0])\n",
        "print(y_test.loc[0])   # actual survive data\n",
        "print(y_pred[0]['probabilities'][1])   # predicted survive data"
      ],
      "metadata": {
        "id": "O8J3Dn9sSaK5"
      },
      "execution_count": null,
      "outputs": []
    },
    {
      "cell_type": "code",
      "source": [
        "for i in y_pred:\n",
        "  print(i['probabilities'][1])\n",
        "clear_output()"
      ],
      "metadata": {
        "id": "sAaONCyrSaNu"
      },
      "execution_count": null,
      "outputs": []
    },
    {
      "cell_type": "code",
      "source": [
        "for i in range(0,len(y_pred)):\n",
        "  print(y_test[i])\n",
        "  print(y_pred[i]['probabilities'][1])\n",
        "clear_output()"
      ],
      "metadata": {
        "id": "fJ_DEevNbBON"
      },
      "execution_count": null,
      "outputs": []
    },
    {
      "cell_type": "markdown",
      "source": [
        "# **CLASSIFICATION**"
      ],
      "metadata": {
        "id": "eALi4oICb-ZD"
      }
    },
    {
      "cell_type": "code",
      "source": [
        "COLNAMES = ['SepalLength','SepalWidth','PetalLength','PetalWidth','Species']\n",
        "SPECIES = ['Setosa','Versicolor','Virginica']"
      ],
      "metadata": {
        "id": "EfVai9imb-cL"
      },
      "execution_count": null,
      "outputs": []
    },
    {
      "cell_type": "code",
      "source": [
        "train_path = tf.keras.utils.get_file(\n",
        "    'iris_training.csv',\"https://storage.googleapis.com/download.tensorflow.org/data/iris_training.csv\"\n",
        ")\n",
        "test_path = tf.keras.utils.get_file(\n",
        "    'iris_test.csv',\"https://storage.googleapis.com/download.tensorflow.org/data/iris_test.csv\"\n",
        ")"
      ],
      "metadata": {
        "id": "1KtFWaqlb-fC"
      },
      "execution_count": null,
      "outputs": []
    },
    {
      "cell_type": "code",
      "source": [
        "train = pd.read_csv(train_path, names = COLNAMES, header=0)\n",
        "test = pd.read_csv(test_path, names = COLNAMES, header=0)"
      ],
      "metadata": {
        "id": "M48T3LKpb-h6"
      },
      "execution_count": null,
      "outputs": []
    },
    {
      "cell_type": "code",
      "source": [
        "train.shape\n",
        "test.shape\n",
        "train.head()"
      ],
      "metadata": {
        "colab": {
          "base_uri": "https://localhost:8080/",
          "height": 206
        },
        "id": "0_Z80xDFb-kk",
        "outputId": "9d057770-1ac3-4ef6-9efe-5fb9f48ddaaa"
      },
      "execution_count": null,
      "outputs": [
        {
          "output_type": "execute_result",
          "data": {
            "text/html": [
              "\n",
              "  <div id=\"df-10c21433-ebcf-4b42-9e3d-e0525d20bde4\">\n",
              "    <div class=\"colab-df-container\">\n",
              "      <div>\n",
              "<style scoped>\n",
              "    .dataframe tbody tr th:only-of-type {\n",
              "        vertical-align: middle;\n",
              "    }\n",
              "\n",
              "    .dataframe tbody tr th {\n",
              "        vertical-align: top;\n",
              "    }\n",
              "\n",
              "    .dataframe thead th {\n",
              "        text-align: right;\n",
              "    }\n",
              "</style>\n",
              "<table border=\"1\" class=\"dataframe\">\n",
              "  <thead>\n",
              "    <tr style=\"text-align: right;\">\n",
              "      <th></th>\n",
              "      <th>SepalLength</th>\n",
              "      <th>SepalWidth</th>\n",
              "      <th>PetalLength</th>\n",
              "      <th>PetalWidth</th>\n",
              "      <th>Species</th>\n",
              "    </tr>\n",
              "  </thead>\n",
              "  <tbody>\n",
              "    <tr>\n",
              "      <th>0</th>\n",
              "      <td>6.4</td>\n",
              "      <td>2.8</td>\n",
              "      <td>5.6</td>\n",
              "      <td>2.2</td>\n",
              "      <td>2</td>\n",
              "    </tr>\n",
              "    <tr>\n",
              "      <th>1</th>\n",
              "      <td>5.0</td>\n",
              "      <td>2.3</td>\n",
              "      <td>3.3</td>\n",
              "      <td>1.0</td>\n",
              "      <td>1</td>\n",
              "    </tr>\n",
              "    <tr>\n",
              "      <th>2</th>\n",
              "      <td>4.9</td>\n",
              "      <td>2.5</td>\n",
              "      <td>4.5</td>\n",
              "      <td>1.7</td>\n",
              "      <td>2</td>\n",
              "    </tr>\n",
              "    <tr>\n",
              "      <th>3</th>\n",
              "      <td>4.9</td>\n",
              "      <td>3.1</td>\n",
              "      <td>1.5</td>\n",
              "      <td>0.1</td>\n",
              "      <td>0</td>\n",
              "    </tr>\n",
              "    <tr>\n",
              "      <th>4</th>\n",
              "      <td>5.7</td>\n",
              "      <td>3.8</td>\n",
              "      <td>1.7</td>\n",
              "      <td>0.3</td>\n",
              "      <td>0</td>\n",
              "    </tr>\n",
              "  </tbody>\n",
              "</table>\n",
              "</div>\n",
              "      <button class=\"colab-df-convert\" onclick=\"convertToInteractive('df-10c21433-ebcf-4b42-9e3d-e0525d20bde4')\"\n",
              "              title=\"Convert this dataframe to an interactive table.\"\n",
              "              style=\"display:none;\">\n",
              "        \n",
              "  <svg xmlns=\"http://www.w3.org/2000/svg\" height=\"24px\"viewBox=\"0 0 24 24\"\n",
              "       width=\"24px\">\n",
              "    <path d=\"M0 0h24v24H0V0z\" fill=\"none\"/>\n",
              "    <path d=\"M18.56 5.44l.94 2.06.94-2.06 2.06-.94-2.06-.94-.94-2.06-.94 2.06-2.06.94zm-11 1L8.5 8.5l.94-2.06 2.06-.94-2.06-.94L8.5 2.5l-.94 2.06-2.06.94zm10 10l.94 2.06.94-2.06 2.06-.94-2.06-.94-.94-2.06-.94 2.06-2.06.94z\"/><path d=\"M17.41 7.96l-1.37-1.37c-.4-.4-.92-.59-1.43-.59-.52 0-1.04.2-1.43.59L10.3 9.45l-7.72 7.72c-.78.78-.78 2.05 0 2.83L4 21.41c.39.39.9.59 1.41.59.51 0 1.02-.2 1.41-.59l7.78-7.78 2.81-2.81c.8-.78.8-2.07 0-2.86zM5.41 20L4 18.59l7.72-7.72 1.47 1.35L5.41 20z\"/>\n",
              "  </svg>\n",
              "      </button>\n",
              "      \n",
              "  <style>\n",
              "    .colab-df-container {\n",
              "      display:flex;\n",
              "      flex-wrap:wrap;\n",
              "      gap: 12px;\n",
              "    }\n",
              "\n",
              "    .colab-df-convert {\n",
              "      background-color: #E8F0FE;\n",
              "      border: none;\n",
              "      border-radius: 50%;\n",
              "      cursor: pointer;\n",
              "      display: none;\n",
              "      fill: #1967D2;\n",
              "      height: 32px;\n",
              "      padding: 0 0 0 0;\n",
              "      width: 32px;\n",
              "    }\n",
              "\n",
              "    .colab-df-convert:hover {\n",
              "      background-color: #E2EBFA;\n",
              "      box-shadow: 0px 1px 2px rgba(60, 64, 67, 0.3), 0px 1px 3px 1px rgba(60, 64, 67, 0.15);\n",
              "      fill: #174EA6;\n",
              "    }\n",
              "\n",
              "    [theme=dark] .colab-df-convert {\n",
              "      background-color: #3B4455;\n",
              "      fill: #D2E3FC;\n",
              "    }\n",
              "\n",
              "    [theme=dark] .colab-df-convert:hover {\n",
              "      background-color: #434B5C;\n",
              "      box-shadow: 0px 1px 3px 1px rgba(0, 0, 0, 0.15);\n",
              "      filter: drop-shadow(0px 1px 2px rgba(0, 0, 0, 0.3));\n",
              "      fill: #FFFFFF;\n",
              "    }\n",
              "  </style>\n",
              "\n",
              "      <script>\n",
              "        const buttonEl =\n",
              "          document.querySelector('#df-10c21433-ebcf-4b42-9e3d-e0525d20bde4 button.colab-df-convert');\n",
              "        buttonEl.style.display =\n",
              "          google.colab.kernel.accessAllowed ? 'block' : 'none';\n",
              "\n",
              "        async function convertToInteractive(key) {\n",
              "          const element = document.querySelector('#df-10c21433-ebcf-4b42-9e3d-e0525d20bde4');\n",
              "          const dataTable =\n",
              "            await google.colab.kernel.invokeFunction('convertToInteractive',\n",
              "                                                     [key], {});\n",
              "          if (!dataTable) return;\n",
              "\n",
              "          const docLinkHtml = 'Like what you see? Visit the ' +\n",
              "            '<a target=\"_blank\" href=https://colab.research.google.com/notebooks/data_table.ipynb>data table notebook</a>'\n",
              "            + ' to learn more about interactive tables.';\n",
              "          element.innerHTML = '';\n",
              "          dataTable['output_type'] = 'display_data';\n",
              "          await google.colab.output.renderOutput(dataTable, element);\n",
              "          const docLink = document.createElement('div');\n",
              "          docLink.innerHTML = docLinkHtml;\n",
              "          element.appendChild(docLink);\n",
              "        }\n",
              "      </script>\n",
              "    </div>\n",
              "  </div>\n",
              "  "
            ],
            "text/plain": [
              "   SepalLength  SepalWidth  PetalLength  PetalWidth  Species\n",
              "0          6.4         2.8          5.6         2.2        2\n",
              "1          5.0         2.3          3.3         1.0        1\n",
              "2          4.9         2.5          4.5         1.7        2\n",
              "3          4.9         3.1          1.5         0.1        0\n",
              "4          5.7         3.8          1.7         0.3        0"
            ]
          },
          "metadata": {},
          "execution_count": 9
        }
      ]
    },
    {
      "cell_type": "code",
      "source": [
        "y_train = train.pop('Species')\n",
        "y_test = test.pop('Species')"
      ],
      "metadata": {
        "id": "ENdJNuFSb-nK"
      },
      "execution_count": null,
      "outputs": []
    },
    {
      "cell_type": "code",
      "source": [
        "y_train.head()\n",
        "y_test.head()"
      ],
      "metadata": {
        "colab": {
          "base_uri": "https://localhost:8080/"
        },
        "id": "JXByQZBZb-p8",
        "outputId": "4d58002a-71ef-4813-b265-f2f37cdd70cd"
      },
      "execution_count": null,
      "outputs": [
        {
          "output_type": "execute_result",
          "data": {
            "text/plain": [
              "0    1\n",
              "1    2\n",
              "2    0\n",
              "3    1\n",
              "4    1\n",
              "Name: Species, dtype: int64"
            ]
          },
          "metadata": {},
          "execution_count": 11
        }
      ]
    },
    {
      "cell_type": "code",
      "source": [
        "# USE A CREATED INPUT FUNCTION\n",
        "def input_fn(features, labels, training=True, batch_size = 256):  \n",
        "  \n",
        "  #Convert the input to a Dataset\n",
        "  dataset = tf.data.Dataset.from_tensor_slices((dict(features), labels))    #create tf.data.Dataset object with data and its lable\n",
        "  \n",
        "  # Shuffle and repeat if you are in training mode\n",
        "  if training:\n",
        "    dataset = dataset.shuffle(1000).repeat()\n",
        "  \n",
        "  return dataset.batch(batch_size)\n"
      ],
      "metadata": {
        "id": "sJm2iOXbb-sa"
      },
      "execution_count": null,
      "outputs": []
    },
    {
      "cell_type": "code",
      "source": [
        "# FEATURE Columns describe how to use input\n",
        "my_feature_columns = []\n",
        "for i in train.columns:\n",
        "  my_feature_columns.append(tf.feature_column.numeric_column(key=i))\n",
        "my_feature_columns"
      ],
      "metadata": {
        "colab": {
          "base_uri": "https://localhost:8080/"
        },
        "id": "IuRIBPjxb-vX",
        "outputId": "f69dff76-ddb0-4887-902d-af946dfa17f9"
      },
      "execution_count": null,
      "outputs": [
        {
          "output_type": "execute_result",
          "data": {
            "text/plain": [
              "[NumericColumn(key='SepalLength', shape=(1,), default_value=None, dtype=tf.float32, normalizer_fn=None),\n",
              " NumericColumn(key='SepalWidth', shape=(1,), default_value=None, dtype=tf.float32, normalizer_fn=None),\n",
              " NumericColumn(key='PetalLength', shape=(1,), default_value=None, dtype=tf.float32, normalizer_fn=None),\n",
              " NumericColumn(key='PetalWidth', shape=(1,), default_value=None, dtype=tf.float32, normalizer_fn=None)]"
            ]
          },
          "metadata": {},
          "execution_count": 13
        }
      ]
    },
    {
      "cell_type": "markdown",
      "source": [
        "## CLASSIFICATION MODELS\n",
        "### DNNClassifier (Deep Neural Network)\n",
        "### LinearClassifier"
      ],
      "metadata": {
        "id": "ReTCJzaDb-yD"
      }
    },
    {
      "cell_type": "code",
      "source": [
        "# ESTIMATOR\n",
        "# Build a DNN with 2 hidden layers with 30 and 10 hideen nodes each \n",
        "classifier = tf.estimator.DNNClassifier(\n",
        "    feature_columns = my_feature_columns,\n",
        "    hidden_units=[30,10],\n",
        "    n_classes=3  # because DV has 3 classes\n",
        ")"
      ],
      "metadata": {
        "colab": {
          "base_uri": "https://localhost:8080/"
        },
        "id": "DS1Vlbo9b-08",
        "outputId": "ed268d0e-d510-4be1-baad-a770318c5eb0"
      },
      "execution_count": null,
      "outputs": [
        {
          "output_type": "stream",
          "name": "stdout",
          "text": [
            "INFO:tensorflow:Using default config.\n",
            "WARNING:tensorflow:Using temporary folder as model directory: /tmp/tmpkvelh9o9\n",
            "INFO:tensorflow:Using config: {'_model_dir': '/tmp/tmpkvelh9o9', '_tf_random_seed': None, '_save_summary_steps': 100, '_save_checkpoints_steps': None, '_save_checkpoints_secs': 600, '_session_config': allow_soft_placement: true\n",
            "graph_options {\n",
            "  rewrite_options {\n",
            "    meta_optimizer_iterations: ONE\n",
            "  }\n",
            "}\n",
            ", '_keep_checkpoint_max': 5, '_keep_checkpoint_every_n_hours': 10000, '_log_step_count_steps': 100, '_train_distribute': None, '_device_fn': None, '_protocol': None, '_eval_distribute': None, '_experimental_distribute': None, '_experimental_max_worker_delay_secs': None, '_session_creation_timeout_secs': 7200, '_checkpoint_save_graph_def': True, '_service': None, '_cluster_spec': ClusterSpec({}), '_task_type': 'worker', '_task_id': 0, '_global_id_in_cluster': 0, '_master': '', '_evaluation_master': '', '_is_chief': True, '_num_ps_replicas': 0, '_num_worker_replicas': 1}\n"
          ]
        }
      ]
    },
    {
      "cell_type": "code",
      "source": [
        "# lambda function example\n",
        "# x = lambda: print(\"hi\")    # lambda is a function, is inside of the function of x(), when call x(), return with lambda function\n",
        "# x()"
      ],
      "metadata": {
        "id": "z0mC5nR64BU1"
      },
      "execution_count": null,
      "outputs": []
    },
    {
      "cell_type": "code",
      "source": [
        "# TRAINING\n",
        "classifier.train(\n",
        "    input_fn = lambda: input_fn(train, y_train, training=True), steps=5000     # Using lambda function here because we did not embed the function and return the input_fn into another function object\n",
        "    )\n",
        "clear_output()\n",
        "#def input_fn(features, labels, training=True, batch_size = 256):  \n",
        "  # dataset = tf.data.Dataset.from_tensor_slices((dict(features), labels))    \n",
        "  # if training:\n",
        "  #   dataset = dataset.shuffle(1000).repeat()\n",
        "  # return dataset.batch(batch_size)\n",
        "#return input_fn   # if we have this return function, lambda function is not necessary above"
      ],
      "metadata": {
        "id": "M6E51E1eb-30"
      },
      "execution_count": null,
      "outputs": []
    },
    {
      "cell_type": "code",
      "source": [
        "# Accuracy Evaluation \n",
        "eval_result = classifier.evaluate(input_fn = lambda: input_fn(test, y_test, training=False))\n",
        "print('\\nTest set accuracy: {accuracy:0.3f}\\n'.format(**eval_result))"
      ],
      "metadata": {
        "colab": {
          "base_uri": "https://localhost:8080/"
        },
        "id": "R0joh-T91Ksn",
        "outputId": "dc24bab3-f68a-432f-92ce-565217fae8fb"
      },
      "execution_count": null,
      "outputs": [
        {
          "output_type": "stream",
          "name": "stdout",
          "text": [
            "INFO:tensorflow:Calling model_fn.\n",
            "INFO:tensorflow:Done calling model_fn.\n",
            "INFO:tensorflow:Starting evaluation at 2022-02-19T21:23:37\n",
            "INFO:tensorflow:Graph was finalized.\n",
            "INFO:tensorflow:Restoring parameters from /tmp/tmpkvelh9o9/model.ckpt-5000\n",
            "INFO:tensorflow:Running local_init_op.\n",
            "INFO:tensorflow:Done running local_init_op.\n",
            "INFO:tensorflow:Inference Time : 0.66504s\n",
            "INFO:tensorflow:Finished evaluation at 2022-02-19-21:23:38\n",
            "INFO:tensorflow:Saving dict for global step 5000: accuracy = 0.93333334, average_loss = 0.40068662, global_step = 5000, loss = 0.40068662\n",
            "INFO:tensorflow:Saving 'checkpoint_path' summary for global step 5000: /tmp/tmpkvelh9o9/model.ckpt-5000\n",
            "\n",
            "Test set accuracy: 0.933\n",
            "\n"
          ]
        }
      ]
    },
    {
      "cell_type": "code",
      "source": [
        "# PREDICTION\n",
        "def input_fn(features, batch_size=256):\n",
        "  return tf.data.Dataset.from_tensor_slices(dict(features)).batch(batch_size)\n",
        "\n",
        "features = ['SepalLength','SepalWidth','PetalLength','PetalWidth']\n",
        "predict={}  # create an empty dictionary\n",
        "\n",
        "for i in features:\n",
        "  valid = True\n",
        "  while valid:\n",
        "    val = input(i + \": \")\n",
        "    if not val.isdigit(): valid = False\n",
        "  predict[i] = [float(val)]\n",
        "\n",
        "predictions = classifier.predict(input_fn = lambda: input_fn(predict))\n",
        "for i in predictions:\n",
        "  #print(i)\n",
        "  class_id = i['class_ids'][0]\n",
        "  probability = i['probabilities'][class_id]\n",
        "  print('prediction is \"{}\" ({:.1f}%)'.format(\n",
        "      SPECIES[class_id],100 * probability\n",
        "  ))"
      ],
      "metadata": {
        "colab": {
          "base_uri": "https://localhost:8080/"
        },
        "id": "cCFNonM2b-6i",
        "outputId": "0ae580f7-f33b-4993-dd1a-f8958bae3ac3"
      },
      "execution_count": null,
      "outputs": [
        {
          "output_type": "stream",
          "name": "stdout",
          "text": [
            "SepalLength: 1.2\n",
            "SepalWidth: 2.1\n",
            "PetalLength: 2.3\n",
            "PetalWidth: .3\n",
            "INFO:tensorflow:Calling model_fn.\n",
            "INFO:tensorflow:Done calling model_fn.\n",
            "INFO:tensorflow:Graph was finalized.\n",
            "INFO:tensorflow:Restoring parameters from /tmp/tmpkvelh9o9/model.ckpt-5000\n",
            "INFO:tensorflow:Running local_init_op.\n",
            "INFO:tensorflow:Done running local_init_op.\n",
            "prediction is \"Virginica\" (62.5%)\n"
          ]
        }
      ]
    },
    {
      "cell_type": "code",
      "source": [
        ""
      ],
      "metadata": {
        "id": "LULif-j2b-9S"
      },
      "execution_count": null,
      "outputs": []
    },
    {
      "cell_type": "markdown",
      "source": [
        "## CLUSTERING\n",
        "### K-MEANS"
      ],
      "metadata": {
        "id": "VPNvvmopb_AT"
      }
    },
    {
      "cell_type": "markdown",
      "source": [
        "##**Hidden Markov Models - Predict future events based on past events**"
      ],
      "metadata": {
        "id": "6B17VDSHb_DC"
      }
    },
    {
      "cell_type": "code",
      "source": [
        "# FOR EXAMPLE, predict weather on a given day given the probability of different events occurs\n",
        "# States is a finite set of states; can be something like hot, cold, blue, red..., are \"hidden\" (latent) in the model, NOT directly observed\n",
        "# observation (probability of events occurs at a particular state). e.g., a hot day has 80% chance of being followed by another HOT day\n",
        "# transition: each state will have a probability defining the likelihood of transition to a different state; e.g., a hot day has 20% chance of being followed by another COLD day"
      ],
      "metadata": {
        "id": "ZRDeV4IB_SqU"
      },
      "execution_count": null,
      "outputs": []
    },
    {
      "cell_type": "code",
      "source": [
        "import tensorflow_probability as tfp\n",
        "import tensorflow as tf"
      ],
      "metadata": {
        "id": "2hULyh90_Stc"
      },
      "execution_count": null,
      "outputs": []
    },
    {
      "cell_type": "code",
      "source": [
        "# cold day coded 0; hot day coded 1\n",
        "# first day 80% of chance of being cold\n",
        "# a cold day has 30% chance being followed by a hot day\n",
        "# a hot day has 20% chance being followed by a cold day\n",
        "# cold day ~ N(0,5) iid ; hot day ~ N(15, 10) iid"
      ],
      "metadata": {
        "id": "FsvAEBXE_Sws"
      },
      "execution_count": null,
      "outputs": []
    },
    {
      "cell_type": "code",
      "source": [
        "tfd = tfp.distributions\n",
        "initial_distribution = tfd.Categorical(probs=[0.2,0.8])  #2\n",
        "transition_distribution = tfd.Categorical(probs=[[0.5,0.5],[0.2,0.8]])  #3 & 4\n",
        "observation_distribution = tfd.Normal(loc=[0.,15.],scale = [5.,10.])  # loc[mean], scale[sd]  # 5"
      ],
      "metadata": {
        "id": "euAqmHUq_SzU"
      },
      "execution_count": null,
      "outputs": []
    },
    {
      "cell_type": "code",
      "source": [
        "# Hidden Markov Model - NO training goes into it as probability is fixed\n",
        "model = tfd.HiddenMarkovModel(\n",
        "    initial_distribution = initial_distribution,\n",
        "    transition_distribution = transition_distribution,\n",
        "    observation_distribution = observation_distribution,\n",
        "    num_steps = 7   # how many points (days in example) want to predict\n",
        ")"
      ],
      "metadata": {
        "id": "hDPa-1fs_S10"
      },
      "execution_count": null,
      "outputs": []
    },
    {
      "cell_type": "code",
      "source": [
        "mean = model.mean()\n",
        "\n",
        "# Evaluate the graph from within a session to see value of tensor\n",
        "with tf.compat.v1.Session() as sess:\n",
        "  print(mean.numpy())"
      ],
      "metadata": {
        "colab": {
          "base_uri": "https://localhost:8080/"
        },
        "id": "K-1qvN0s_S4s",
        "outputId": "0e20f819-28db-4ed5-ef26-7fd57a2c8659"
      },
      "execution_count": null,
      "outputs": [
        {
          "output_type": "stream",
          "name": "stdout",
          "text": [
            "[11.999999 11.1      10.830001 10.748999 10.724699 10.71741  10.715222]\n"
          ]
        }
      ]
    },
    {
      "cell_type": "code",
      "source": [
        ""
      ],
      "metadata": {
        "id": "_NfDqpXz_S7k"
      },
      "execution_count": null,
      "outputs": []
    },
    {
      "cell_type": "markdown",
      "source": [
        "# Neural Network"
      ],
      "metadata": {
        "id": "zzzLbBLg_S-b"
      }
    },
    {
      "cell_type": "code",
      "source": [
        "import tensorflow as tf\n",
        "from tensorflow import keras\n",
        "import numpy as np\n",
        "import pandas as pd\n",
        "import matplotlib.pyplot as plt\n"
      ],
      "metadata": {
        "id": "jeH_nzMm_TBT"
      },
      "execution_count": null,
      "outputs": []
    },
    {
      "cell_type": "code",
      "source": [
        "fashion_mnist = keras.datasets.fashion_mnist\n",
        "(train_images, train_labels),(test_images, test_labels) = fashion_mnist.load_data()"
      ],
      "metadata": {
        "id": "zgnr4QpoRa6k"
      },
      "execution_count": null,
      "outputs": []
    },
    {
      "cell_type": "code",
      "source": [
        "train_images.shape   # 60000 images with 28 x 28 pixels\n",
        "type(train_images)\n",
        "train_images[0,23,23]\n",
        "train_labels[0:10]\n",
        "class_name = ['top','pant','pull-over','dress','coat','sandal','shirt','sneaker','bag','boot']"
      ],
      "metadata": {
        "id": "gTKycHzJRa9T"
      },
      "execution_count": null,
      "outputs": []
    },
    {
      "cell_type": "code",
      "source": [
        "plt.figure()\n",
        "plt.imshow(train_images[4000])\n",
        "plt.colorbar()\n",
        "plt.show()"
      ],
      "metadata": {
        "colab": {
          "base_uri": "https://localhost:8080/",
          "height": 265
        },
        "id": "neCPAWzCRbAE",
        "outputId": "4d480e22-15fc-487e-8eff-141289636f7c"
      },
      "execution_count": null,
      "outputs": [
        {
          "output_type": "display_data",
          "data": {
            "image/png": "[encoded data removed]",
            "text/plain": [
              "<Figure size 432x288 with 2 Axes>"
            ]
          },
          "metadata": {
            "needs_background": "light"
          }
        }
      ]
    },
    {
      "cell_type": "markdown",
      "source": [
        "### Data Processing - Standardization"
      ],
      "metadata": {
        "id": "UUPqLonWRbC0"
      }
    },
    {
      "cell_type": "code",
      "source": [
        "train_images = train_images / 255.0  # to standardize all greyscale pixel value (0-255) to between 0 - 1\n",
        "test_images = test_images / 255.0"
      ],
      "metadata": {
        "id": "-hcbCeceRbFq"
      },
      "execution_count": null,
      "outputs": []
    },
    {
      "cell_type": "markdown",
      "source": [
        "### Keras Sequential Model - 3 Layers - Feedforward Neural Network (left to right)"
      ],
      "metadata": {
        "id": "lN9NCYSeRbIS"
      }
    },
    {
      "cell_type": "code",
      "source": [
        "model = keras.Sequential([\n",
        "    keras.layers.Flatten(input_shape = [28,28]),    # input layer - take 28 x 28 matrix to a long 764 records\n",
        "    keras.layers.Dense(128, activation = 'relu'),   # hidden layer - 128 is arbitrary\n",
        "    keras.layers.Dense(10, activation = 'softmax')  # output layer - 10 is the number of classes in the DV; softmax for multidimensional DV\n",
        "])"
      ],
      "metadata": {
        "id": "5a2xuANaRbKq"
      },
      "execution_count": null,
      "outputs": []
    },
    {
      "cell_type": "markdown",
      "source": [
        "### Compile Model"
      ],
      "metadata": {
        "id": "QIY18bh1_TEd"
      }
    },
    {
      "cell_type": "code",
      "source": [
        "model.compile(\n",
        "    optimizer = 'adam',  # adma is the function for gradient search\n",
        "    loss = 'sparse_categorical_crossentropy',\n",
        "    metrics = ['accuracy']\n",
        ")\n",
        "# Hyperparameter tuning is to adjust hyper parameters, such as optimizer, loss, activation algorithm, number of neurons, epochs"
      ],
      "metadata": {
        "id": "CSxBBPXv_THT"
      },
      "execution_count": null,
      "outputs": []
    },
    {
      "cell_type": "code",
      "source": [
        "model.fit(train_images, train_labels, epochs= 8)"
      ],
      "metadata": {
        "colab": {
          "base_uri": "https://localhost:8080/"
        },
        "id": "Wqssn9eZWZMF",
        "outputId": "0db88436-d83e-49af-a766-fc57ab6f5a42"
      },
      "execution_count": null,
      "outputs": [
        {
          "output_type": "stream",
          "name": "stdout",
          "text": [
            "Epoch 1/8\n",
            "1875/1875 [==============================] - 7s 4ms/step - loss: 0.2311 - accuracy: 0.9138\n",
            "Epoch 2/8\n",
            "1875/1875 [==============================] - 5s 3ms/step - loss: 0.2248 - accuracy: 0.9166\n",
            "Epoch 3/8\n",
            "1875/1875 [==============================] - 5s 3ms/step - loss: 0.2180 - accuracy: 0.9171\n",
            "Epoch 4/8\n",
            "1875/1875 [==============================] - 5s 3ms/step - loss: 0.2103 - accuracy: 0.9210\n",
            "Epoch 5/8\n",
            "1875/1875 [==============================] - 5s 3ms/step - loss: 0.2049 - accuracy: 0.9222\n",
            "Epoch 6/8\n",
            "1875/1875 [==============================] - 5s 3ms/step - loss: 0.2001 - accuracy: 0.9255\n",
            "Epoch 7/8\n",
            "1875/1875 [==============================] - 5s 3ms/step - loss: 0.1941 - accuracy: 0.9263\n",
            "Epoch 8/8\n",
            "1875/1875 [==============================] - 5s 3ms/step - loss: 0.1896 - accuracy: 0.9290\n"
          ]
        },
        {
          "output_type": "execute_result",
          "data": {
            "text/plain": [
              "<keras.callbacks.History at 0x7f9bada25350>"
            ]
          },
          "metadata": {},
          "execution_count": 39
        }
      ]
    },
    {
      "cell_type": "code",
      "source": [
        "test_loss, test_accuracy = model.evaluate(test_images,test_labels, verbose=1)"
      ],
      "metadata": {
        "colab": {
          "base_uri": "https://localhost:8080/"
        },
        "id": "l-4su00tWZO0",
        "outputId": "05339883-f51b-4c6a-c047-b4d8e0eae5ff"
      },
      "execution_count": null,
      "outputs": [
        {
          "output_type": "stream",
          "name": "stdout",
          "text": [
            "313/313 [==============================] - 1s 2ms/step - loss: 0.3662 - accuracy: 0.8820\n"
          ]
        }
      ]
    },
    {
      "cell_type": "code",
      "source": [
        "prediction = model.predict(test_images)"
      ],
      "metadata": {
        "id": "whgR3A_mWZRk"
      },
      "execution_count": null,
      "outputs": []
    },
    {
      "cell_type": "code",
      "source": [
        "print(prediction[0])  # Get probability in 9 classes\n",
        "print(np.argmax(prediction[0]))  # get the class with max probability - class 9\n",
        "print(class_name[np.argmax(prediction[0])])   # get the class name for the class 9"
      ],
      "metadata": {
        "colab": {
          "base_uri": "https://localhost:8080/"
        },
        "id": "qRNXTGG0WZUF",
        "outputId": "6cf9d915-7a17-4724-b1dd-3c5717dcad15"
      },
      "execution_count": null,
      "outputs": [
        {
          "output_type": "stream",
          "name": "stdout",
          "text": [
            "[2.4026070e-10 2.0072536e-14 1.1903358e-15 7.1827560e-14 9.7079783e-12\n",
            " 7.4718500e-06 2.4727182e-12 1.2781221e-03 2.0331288e-13 9.9871445e-01]\n",
            "9\n",
            "boot\n"
          ]
        }
      ]
    },
    {
      "cell_type": "code",
      "source": [
        "print(class_name[np.argmax(prediction[1])])\n",
        "plt.figure()\n",
        "plt.imshow(test_images[1])\n",
        "plt.colorbar()\n",
        "plt.show()"
      ],
      "metadata": {
        "colab": {
          "base_uri": "https://localhost:8080/",
          "height": 287
        },
        "id": "S_IFpkOTWZWg",
        "outputId": "09f8f0d1-5fd7-49e6-8544-c254379159ca"
      },
      "execution_count": null,
      "outputs": [
        {
          "output_type": "stream",
          "name": "stdout",
          "text": [
            "pull-over\n"
          ]
        },
        {
          "output_type": "display_data",
          "data": {
            "image/png": "[encoded data removed]",
            "text/plain": [
              "<Figure size 432x288 with 2 Axes>"
            ]
          },
          "metadata": {
            "needs_background": "light"
          }
        }
      ]
    },
    {
      "cell_type": "markdown",
      "source": [
        ""
      ],
      "metadata": {
        "id": "wo-Kq6IJWZZH"
      }
    },
    {
      "cell_type": "code",
      "source": [
        ""
      ],
      "metadata": {
        "id": "MOmfewgiWZb0"
      },
      "execution_count": null,
      "outputs": []
    },
    {
      "cell_type": "code",
      "source": [
        ""
      ],
      "metadata": {
        "id": "zhU6CvpAWZec"
      },
      "execution_count": null,
      "outputs": []
    },
    {
      "cell_type": "code",
      "source": [
        ""
      ],
      "metadata": {
        "id": "tZpZpFsXWZhN"
      },
      "execution_count": null,
      "outputs": []
    },
    {
      "cell_type": "code",
      "source": [
        ""
      ],
      "metadata": {
        "id": "rLBgDDB8WZj8"
      },
      "execution_count": null,
      "outputs": []
    },
    {
      "cell_type": "code",
      "source": [
        ""
      ],
      "metadata": {
        "id": "RNYeG6E7WZm0"
      },
      "execution_count": null,
      "outputs": []
    },
    {
      "cell_type": "code",
      "source": [
        ""
      ],
      "metadata": {
        "id": "rXx0i9XyWZpt"
      },
      "execution_count": null,
      "outputs": []
    },
    {
      "cell_type": "code",
      "source": [
        "\n"
      ],
      "metadata": {
        "id": "3BNrXu0nWZsV",
        "colab": {
          "base_uri": "https://localhost:8080/"
        },
        "outputId": "4e39147c-bef7-498b-d19b-bbf799e4162b"
      },
      "execution_count": null,
      "outputs": [
        {
          "output_type": "stream",
          "name": "stdout",
          "text": [
            "make spaceship\n"
          ]
        }
      ]
    }
  ]
}